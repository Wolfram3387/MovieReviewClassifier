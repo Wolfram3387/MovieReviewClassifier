{
 "nbformat": 4,
 "nbformat_minor": 0,
 "metadata": {
  "accelerator": "GPU",
  "colab": {
   "provenance": []
  },
  "kernelspec": {
   "name": "python3",
   "language": "python",
   "display_name": "Python 3 (ipykernel)"
  },
  "language_info": {
   "codemirror_mode": {
    "name": "ipython",
    "version": 3
   },
   "file_extension": ".py",
   "mimetype": "text/x-python",
   "name": "python",
   "nbconvert_exporter": "python",
   "pygments_lexer": "ipython3",
   "version": "3.7.1"
  }
 },
 "cells": [
  {
   "cell_type": "markdown",
   "source": [
    "## Реализация и обучение классификатора отзывов"
   ],
   "metadata": {
    "collapsed": false
   }
  },
  {
   "cell_type": "markdown",
   "source": [
    "Задача: классификация отзывов на фильмы (положительный или отрицательный).\n",
    "Датасет: IMDB."
   ],
   "metadata": {
    "collapsed": false
   }
  },
  {
   "cell_type": "markdown",
   "metadata": {
    "id": "0zI3nDdteAqz"
   },
   "source": [
    "### Загрузка библиотек"
   ]
  },
  {
   "cell_type": "code",
   "metadata": {
    "id": "2ew7HTbPpCJH",
    "colab": {
     "base_uri": "https://localhost:8080/",
     "height": 34
    },
    "outputId": "c6dc05a4-7c42-4688-d274-a3b1be892be2",
    "ExecuteTime": {
     "end_time": "2023-06-23T08:45:13.887541Z",
     "start_time": "2023-06-23T08:45:13.829368Z"
    }
   },
   "source": [
    "import numpy as np\n",
    "import tensorflow as tf\n",
    "\n",
    "print(tf.__version__)\n",
    "\n",
    "import matplotlib.pyplot as plt\n",
    "%matplotlib inline"
   ],
   "execution_count": 66,
   "outputs": [
    {
     "name": "stdout",
     "output_type": "stream",
     "text": [
      "2.12.0\n"
     ]
    }
   ]
  },
  {
   "cell_type": "markdown",
   "metadata": {
    "id": "oH_vOZKxUUp_"
   },
   "source": [
    "### Загрузка датасета IMDB"
   ]
  },
  {
   "cell_type": "code",
   "metadata": {
    "id": "zXXx5Oc3pOmN",
    "colab": {
     "base_uri": "https://localhost:8080/",
     "height": 190
    },
    "outputId": "6f067d46-e157-4efa-d9cf-2c404dc07a71",
    "ExecuteTime": {
     "end_time": "2023-06-23T08:45:17.835178Z",
     "start_time": "2023-06-23T08:45:13.836906Z"
    }
   },
   "source": [
    "VOCAB_SIZE = 10000  # Количество слов в словаре\n",
    "\n",
    "(train_data, train_labels), (test_data, test_labels) = tf.keras.datasets.imdb.load_data(num_words=VOCAB_SIZE)\n",
    "\n",
    "print(\"Training entries: {}\".format(len(train_data)))\n",
    "print('=====================================')\n",
    "print(\"Test entries: {}\".format(len(test_data)))\n",
    "print('=====================================')\n",
    "print(\"Length examples: {}\".format([len(train_data[0]), len(train_data[1])]))\n",
    "print('=====================================')\n",
    "print(\"Entry example: {}\".format(train_data[0]))"
   ],
   "execution_count": 67,
   "outputs": [
    {
     "name": "stdout",
     "output_type": "stream",
     "text": [
      "Training entries: 25000\n",
      "=====================================\n",
      "Test entries: 25000\n",
      "=====================================\n",
      "Length examples: [218, 189]\n",
      "=====================================\n",
      "Entry example: [1, 14, 22, 16, 43, 530, 973, 1622, 1385, 65, 458, 4468, 66, 3941, 4, 173, 36, 256, 5, 25, 100, 43, 838, 112, 50, 670, 2, 9, 35, 480, 284, 5, 150, 4, 172, 112, 167, 2, 336, 385, 39, 4, 172, 4536, 1111, 17, 546, 38, 13, 447, 4, 192, 50, 16, 6, 147, 2025, 19, 14, 22, 4, 1920, 4613, 469, 4, 22, 71, 87, 12, 16, 43, 530, 38, 76, 15, 13, 1247, 4, 22, 17, 515, 17, 12, 16, 626, 18, 2, 5, 62, 386, 12, 8, 316, 8, 106, 5, 4, 2223, 5244, 16, 480, 66, 3785, 33, 4, 130, 12, 16, 38, 619, 5, 25, 124, 51, 36, 135, 48, 25, 1415, 33, 6, 22, 12, 215, 28, 77, 52, 5, 14, 407, 16, 82, 2, 8, 4, 107, 117, 5952, 15, 256, 4, 2, 7, 3766, 5, 723, 36, 71, 43, 530, 476, 26, 400, 317, 46, 7, 4, 2, 1029, 13, 104, 88, 4, 381, 15, 297, 98, 32, 2071, 56, 26, 141, 6, 194, 7486, 18, 4, 226, 22, 21, 134, 476, 26, 480, 5, 144, 30, 5535, 18, 51, 36, 28, 224, 92, 25, 104, 4, 226, 65, 16, 38, 1334, 88, 12, 16, 283, 5, 16, 4472, 113, 103, 32, 15, 16, 5345, 19, 178, 32]\n"
     ]
    }
   ]
  },
  {
   "cell_type": "markdown",
   "metadata": {
    "id": "ddYa4j6cUfO8"
   },
   "source": [
    "### Создание функций decode_review и encode_review\n",
    "Создадим функции для конвертирования индексного представления отзыва в словесный (`decode_review`) и наоборот (`encode_review`).\n",
    "\n",
    "Функции будут использовать словари `word2idx` и `idx2word` (отображение слова в индекс и индекса в слово)\n",
    "\n",
    "Кроме обычных слов в словаре будут содержаться специальные слова (токены): `<PAD>`, `<START>`, `<UNKNOWN>`\n"
   ]
  },
  {
   "cell_type": "code",
   "metadata": {
    "id": "tr5s_1alpzop",
    "colab": {
     "base_uri": "https://localhost:8080/",
     "height": 105
    },
    "outputId": "898658e7-3a9e-44e4-9145-c357f046bba5",
    "ExecuteTime": {
     "end_time": "2023-06-23T08:45:17.979967Z",
     "start_time": "2023-06-23T08:45:17.839711Z"
    }
   },
   "source": [
    "word_index = tf.keras.datasets.imdb.get_word_index()\n",
    "\n",
    "word_index = {k: (v + 3) for k, v in word_index.items()}\n",
    "word_index[\"<PAD>\"] = 0\n",
    "word_index[\"<START>\"] = 1\n",
    "word_index[\"<UNKNOWN>\"] = 2\n",
    "\n",
    "reverse_word_index = dict([(value, key) for key, value in word_index.items()])\n",
    "\n",
    "\n",
    "# последовательность индексов в текст\n",
    "def decode_review(text):\n",
    "    return ' '.join([reverse_word_index.get(i, '?') for i in text])\n",
    "\n",
    "\n",
    "# текст в последовательность индексов\n",
    "def encode_review(text):\n",
    "    words = text.lower().split()\n",
    "    words = ['<START>'] + words\n",
    "    idxs = [word_index.get(word, word_index['<UNKNOWN>']) for word in words]\n",
    "    return idxs\n",
    "\n",
    "\n",
    "print('Example of a decoded review: \\n{}'.format(decode_review(train_data[0])))"
   ],
   "execution_count": 68,
   "outputs": [
    {
     "name": "stdout",
     "output_type": "stream",
     "text": [
      "Example of a decoded review: \n",
      "<START> this film was just brilliant casting location scenery story direction everyone's really suited the part they played and you could just imagine being there robert <UNKNOWN> is an amazing actor and now the same being director <UNKNOWN> father came from the same scottish island as myself so i loved the fact there was a real connection with this film the witty remarks throughout the film were great it was just brilliant so much that i bought the film as soon as it was released for <UNKNOWN> and would recommend it to everyone to watch and the fly fishing was amazing really cried at the end it was so sad and you know what they say if you cry at a film it must have been good and this definitely was also <UNKNOWN> to the two little boy's that played the <UNKNOWN> of norman and paul they were just brilliant children are often left out of the <UNKNOWN> list i think because the stars that play them all grown up are such a big profile for the whole film but these children are amazing and should be praised for what they have done don't you think the whole story was so lovely because it was true and was someone's life after all that was shared with us all\n"
     ]
    }
   ]
  },
  {
   "cell_type": "markdown",
   "metadata": {
    "id": "5kijgd6JfPlo"
   },
   "source": [
    "### Проверка работы функций decode_review и encode_review"
   ]
  },
  {
   "cell_type": "code",
   "metadata": {
    "id": "MrfmGgiFUUqG",
    "colab": {
     "base_uri": "https://localhost:8080/",
     "height": 51
    },
    "outputId": "4c367fc2-96ad-4898-b9cf-d01961b48119",
    "ExecuteTime": {
     "end_time": "2023-06-23T08:45:17.986975Z",
     "start_time": "2023-06-23T08:45:17.982063Z"
    }
   },
   "source": [
    "text = 'hello world'\n",
    "\n",
    "print(encode_review(text))\n",
    "print(decode_review(encode_review(text)))"
   ],
   "execution_count": 69,
   "outputs": [
    {
     "name": "stdout",
     "output_type": "stream",
     "text": [
      "[1, 4825, 182]\n",
      "<START> hello world\n"
     ]
    }
   ]
  },
  {
   "cell_type": "markdown",
   "metadata": {
    "id": "gBnbaLQEUigW"
   },
   "source": [
    "### Приведение всех цепочек в датасете к одной длине с помощью паддинга\n",
    "Дополним каждый отзыв до длины `MAX_SEQ_LEN` элементами `<PAD>`."
   ]
  },
  {
   "cell_type": "code",
   "metadata": {
    "id": "2jQv-omsHurp",
    "colab": {
     "base_uri": "https://localhost:8080/",
     "height": 374
    },
    "outputId": "31fc1163-33dd-4936-be6d-12374287bb12",
    "ExecuteTime": {
     "end_time": "2023-06-23T08:45:18.627016Z",
     "start_time": "2023-06-23T08:45:17.992013Z"
    }
   },
   "source": [
    "MAX_SEQ_LEN = 256  # Финальная длина последовательности\n",
    "\n",
    "train_data = tf.keras.preprocessing.sequence.pad_sequences(\n",
    "    train_data,\n",
    "    value=word_index[\"<PAD>\"],\n",
    "    padding='post',\n",
    "    maxlen=MAX_SEQ_LEN)\n",
    "\n",
    "test_data = tf.keras.preprocessing.sequence.pad_sequences(\n",
    "    test_data,\n",
    "    value=word_index[\"<PAD>\"],\n",
    "    padding='post',\n",
    "    maxlen=MAX_SEQ_LEN)\n",
    "\n",
    "print(\"Length examples: {}\".format([len(train_data[0]), len(train_data[1])]))\n",
    "print('=====================================')\n",
    "print(\"Entry example: {}\".format(train_data[0]))"
   ],
   "execution_count": 70,
   "outputs": [
    {
     "name": "stdout",
     "output_type": "stream",
     "text": [
      "Length examples: [256, 256]\n",
      "=====================================\n",
      "Entry example: [   1   14   22   16   43  530  973 1622 1385   65  458 4468   66 3941\n",
      "    4  173   36  256    5   25  100   43  838  112   50  670    2    9\n",
      "   35  480  284    5  150    4  172  112  167    2  336  385   39    4\n",
      "  172 4536 1111   17  546   38   13  447    4  192   50   16    6  147\n",
      " 2025   19   14   22    4 1920 4613  469    4   22   71   87   12   16\n",
      "   43  530   38   76   15   13 1247    4   22   17  515   17   12   16\n",
      "  626   18    2    5   62  386   12    8  316    8  106    5    4 2223\n",
      " 5244   16  480   66 3785   33    4  130   12   16   38  619    5   25\n",
      "  124   51   36  135   48   25 1415   33    6   22   12  215   28   77\n",
      "   52    5   14  407   16   82    2    8    4  107  117 5952   15  256\n",
      "    4    2    7 3766    5  723   36   71   43  530  476   26  400  317\n",
      "   46    7    4    2 1029   13  104   88    4  381   15  297   98   32\n",
      " 2071   56   26  141    6  194 7486   18    4  226   22   21  134  476\n",
      "   26  480    5  144   30 5535   18   51   36   28  224   92   25  104\n",
      "    4  226   65   16   38 1334   88   12   16  283    5   16 4472  113\n",
      "  103   32   15   16 5345   19  178   32    0    0    0    0    0    0\n",
      "    0    0    0    0    0    0    0    0    0    0    0    0    0    0\n",
      "    0    0    0    0    0    0    0    0    0    0    0    0    0    0\n",
      "    0    0    0    0]\n"
     ]
    }
   ]
  },
  {
   "cell_type": "markdown",
   "metadata": {
    "id": "3DFY3ibTUUqO"
   },
   "source": [
    "### Создание модели LSTM"
   ]
  },
  {
   "cell_type": "code",
   "metadata": {
    "id": "xpKOoWgu-llD",
    "colab": {
     "base_uri": "https://localhost:8080/",
     "height": 289
    },
    "outputId": "2ac44679-59e9-48de-8e6e-10067af9fbcd",
    "ExecuteTime": {
     "end_time": "2023-06-23T08:45:19.115871Z",
     "start_time": "2023-06-23T08:45:18.644354Z"
    }
   },
   "source": [
    "EMB_SIZE = 16  # Размер векторного представления (эмбеддинга)\n",
    "\n",
    "model = tf.keras.Sequential([\n",
    "    tf.keras.layers.Embedding(VOCAB_SIZE, EMB_SIZE),\n",
    "    tf.keras.layers.Bidirectional(\n",
    "        tf.keras.layers.LSTM(EMB_SIZE, return_sequences=True, dropout=0.5, recurrent_dropout=0.5)),\n",
    "    tf.keras.layers.Bidirectional(\n",
    "        tf.keras.layers.LSTM(EMB_SIZE, return_sequences=False, dropout=0.5, recurrent_dropout=0.5)),\n",
    "    tf.keras.layers.Dense(1, activation=tf.nn.sigmoid),\n",
    "])\n",
    "\n",
    "model.summary()"
   ],
   "execution_count": 71,
   "outputs": [
    {
     "name": "stdout",
     "output_type": "stream",
     "text": [
      "Model: \"sequential_7\"\n",
      "_________________________________________________________________\n",
      " Layer (type)                Output Shape              Param #   \n",
      "=================================================================\n",
      " embedding_7 (Embedding)     (None, None, 16)          160000    \n",
      "                                                                 \n",
      " bidirectional_14 (Bidirecti  (None, None, 32)         4224      \n",
      " onal)                                                           \n",
      "                                                                 \n",
      " bidirectional_15 (Bidirecti  (None, 32)               6272      \n",
      " onal)                                                           \n",
      "                                                                 \n",
      " dense_7 (Dense)             (None, 1)                 33        \n",
      "                                                                 \n",
      "=================================================================\n",
      "Total params: 170,529\n",
      "Trainable params: 170,529\n",
      "Non-trainable params: 0\n",
      "_________________________________________________________________\n"
     ]
    }
   ]
  },
  {
   "cell_type": "markdown",
   "metadata": {
    "id": "Q8J112EGUUqS"
   },
   "source": [
    "### Подготовка модели к обучению"
   ]
  },
  {
   "cell_type": "code",
   "metadata": {
    "id": "Mr0GP-cQ-llN",
    "ExecuteTime": {
     "end_time": "2023-06-23T08:45:19.124641Z",
     "start_time": "2023-06-23T08:45:19.115726Z"
    }
   },
   "source": [
    "model.compile(optimizer='adam',\n",
    "              loss='binary_crossentropy',\n",
    "              metrics=['accuracy'])"
   ],
   "execution_count": 72,
   "outputs": []
  },
  {
   "cell_type": "markdown",
   "metadata": {
    "id": "eTE1uIbSUUqV"
   },
   "source": [
    "### Разбиение датасета на обучающий и валидационный"
   ]
  },
  {
   "cell_type": "code",
   "metadata": {
    "id": "-NpcXY9--llS",
    "ExecuteTime": {
     "end_time": "2023-06-23T08:45:19.146434Z",
     "start_time": "2023-06-23T08:45:19.129119Z"
    }
   },
   "source": [
    "x_val = train_data[:10000]\n",
    "partial_x_train = train_data[10000:]\n",
    "\n",
    "y_val = train_labels[:10000]\n",
    "partial_y_train = train_labels[10000:]"
   ],
   "execution_count": 73,
   "outputs": []
  },
  {
   "cell_type": "markdown",
   "metadata": {
    "id": "hFmKIMq0UUqY",
    "ExecuteTime": {
     "end_time": "2023-06-23T14:17:21.541674Z",
     "start_time": "2023-06-23T14:17:21.358634Z"
    }
   },
   "source": [
    "### Обучение модели"
   ],
   "outputs": [
    {
     "ename": "NameError",
     "evalue": "name 'x_val' is not defined",
     "output_type": "error",
     "traceback": [
      "\u001B[0;31m---------------------------------------------------------------------------\u001B[0m",
      "\u001B[0;31mNameError\u001B[0m                                 Traceback (most recent call last)",
      "Cell \u001B[0;32mIn[1], line 1\u001B[0m\n\u001B[0;32m----> 1\u001B[0m \u001B[43mx_val\u001B[49m\u001B[38;5;241m.\u001B[39mshape\n",
      "\u001B[0;31mNameError\u001B[0m: name 'x_val' is not defined"
     ]
    }
   ],
   "execution_count": 1
  },
  {
   "cell_type": "code",
   "metadata": {
    "id": "tXSGrjWZ-llW",
    "scrolled": false,
    "colab": {
     "base_uri": "https://localhost:8080/",
     "height": 714
    },
    "outputId": "1aa0212a-9fa5-418e-b0f5-5f95a194d073",
    "ExecuteTime": {
     "end_time": "2023-06-23T08:51:27.406540Z",
     "start_time": "2023-06-23T08:45:19.131539Z"
    }
   },
   "source": [
    "BATCH_SIZE = 512\n",
    "NUM_EPOCHS = 10\n",
    "\n",
    "history = model.fit(partial_x_train,\n",
    "                    partial_y_train,\n",
    "                    epochs=NUM_EPOCHS,\n",
    "                    batch_size=BATCH_SIZE,\n",
    "                    validation_data=(x_val, y_val),\n",
    "                    verbose=1)"
   ],
   "execution_count": 74,
   "outputs": [
    {
     "name": "stdout",
     "output_type": "stream",
     "text": [
      "Epoch 1/10\n",
      "30/30 [==============================] - 45s 1s/step - loss: 0.6925 - accuracy: 0.5154 - val_loss: 0.6916 - val_accuracy: 0.5156\n",
      "Epoch 2/10\n",
      "30/30 [==============================] - 36s 1s/step - loss: 0.6629 - accuracy: 0.6251 - val_loss: 0.5438 - val_accuracy: 0.7458\n",
      "Epoch 3/10\n",
      "30/30 [==============================] - 37s 1s/step - loss: 0.5222 - accuracy: 0.7609 - val_loss: 0.4628 - val_accuracy: 0.8049\n",
      "Epoch 4/10\n",
      "30/30 [==============================] - 36s 1s/step - loss: 0.4306 - accuracy: 0.8228 - val_loss: 0.4078 - val_accuracy: 0.8286\n",
      "Epoch 5/10\n",
      "30/30 [==============================] - 36s 1s/step - loss: 0.3453 - accuracy: 0.8670 - val_loss: 0.3699 - val_accuracy: 0.8500\n",
      "Epoch 6/10\n",
      "30/30 [==============================] - 36s 1s/step - loss: 0.2969 - accuracy: 0.8899 - val_loss: 0.4071 - val_accuracy: 0.8572\n",
      "Epoch 7/10\n",
      "30/30 [==============================] - 37s 1s/step - loss: 0.2727 - accuracy: 0.8987 - val_loss: 0.3710 - val_accuracy: 0.8615\n",
      "Epoch 8/10\n",
      "30/30 [==============================] - 36s 1s/step - loss: 0.3470 - accuracy: 0.8757 - val_loss: 0.4772 - val_accuracy: 0.8024\n",
      "Epoch 9/10\n",
      "30/30 [==============================] - 35s 1s/step - loss: 0.2920 - accuracy: 0.8857 - val_loss: 0.3939 - val_accuracy: 0.8563\n",
      "Epoch 10/10\n",
      "30/30 [==============================] - 35s 1s/step - loss: 0.2356 - accuracy: 0.9171 - val_loss: 0.3814 - val_accuracy: 0.8626\n"
     ]
    }
   ]
  },
  {
   "cell_type": "markdown",
   "metadata": {
    "id": "eo3qpeqTUUqb"
   },
   "source": [
    "### Оценка качества на тестовом датасете"
   ]
  },
  {
   "cell_type": "code",
   "metadata": {
    "id": "zOMKywn4zReN",
    "colab": {
     "base_uri": "https://localhost:8080/",
     "height": 88
    },
    "outputId": "97b84a5a-daad-4449-81cf-e54943f3d57c",
    "ExecuteTime": {
     "end_time": "2023-06-23T08:52:20.449324Z",
     "start_time": "2023-06-23T08:51:27.411815Z"
    }
   },
   "source": [
    "results = model.evaluate(test_data, test_labels)\n",
    "\n",
    "print('Test loss: {:.3f}'.format(results[0]))\n",
    "print('Test accuracy: {:.2f} %'.format(results[1] * 100))"
   ],
   "execution_count": 75,
   "outputs": [
    {
     "name": "stdout",
     "output_type": "stream",
     "text": [
      "782/782 [==============================] - 53s 68ms/step - loss: 0.4162 - accuracy: 0.8492\n",
      "Test loss: 0.416\n",
      "Test accuracy: 84.92 %\n"
     ]
    }
   ]
  },
  {
   "cell_type": "markdown",
   "metadata": {
    "id": "vEZH1SneWpPu"
   },
   "source": [
    "### Графики лосса и точности на обучающем и валидационном датасетах"
   ]
  },
  {
   "cell_type": "code",
   "metadata": {
    "id": "nGoYf2Js-lle",
    "scrolled": false,
    "colab": {
     "base_uri": "https://localhost:8080/",
     "height": 573
    },
    "outputId": "7b013a23-b278-475e-d3a7-b71d5b4ab41a",
    "ExecuteTime": {
     "end_time": "2023-06-23T09:10:35.546243Z",
     "start_time": "2023-06-23T09:10:35.178954Z"
    }
   },
   "source": [
    "epochs = range(1, len(history.history['accuracy']) + 1)\n",
    "\n",
    "plt.figure()\n",
    "plt.plot(epochs, history.history['loss'], 'bo', label='Training loss')\n",
    "plt.plot(epochs, history.history['val_loss'], 'b', label='Validation loss')\n",
    "plt.title('Training and validation loss')\n",
    "plt.xlabel('Epochs')\n",
    "plt.ylabel('Loss')\n",
    "plt.legend()\n",
    "plt.grid()\n",
    "\n",
    "plt.figure()\n",
    "plt.plot(epochs, history.history['accuracy'], 'bo', label='Training acc')\n",
    "plt.plot(epochs, history.history['val_accuracy'], 'b', label='Validation acc')\n",
    "plt.title('Training and validation accuracy')\n",
    "plt.xlabel('Epochs')\n",
    "plt.ylabel('Accuracy')\n",
    "plt.legend()\n",
    "plt.grid()"
   ],
   "execution_count": 77,
   "outputs": [
    {
     "data": {
      "text/plain": "<Figure size 640x480 with 1 Axes>",
      "image/png": "[encoded data removed]"
     },
     "metadata": {},
     "output_type": "display_data"
    },
    {
     "data": {
      "text/plain": "<Figure size 640x480 with 1 Axes>",
      "image/png": "[encoded data removed]"
     },
     "metadata": {},
     "output_type": "display_data"
    }
   ]
  },
  {
   "cell_type": "markdown",
   "metadata": {
    "id": "zh3G6kIxW41a"
   },
   "source": [
    "### Тестирование обученной модели на новой последовательности\n",
    "\n",
    "Проверим работу модели на собственном отзыве.\n",
    "\n",
    "Напишем текст (отзыв), закодируем его в индексы с помощью `encode_review` и подадим на вход в нейронную сеть, приклеив батч-измерение. Выход из сети -- вероятность того, что отзыв положительный."
   ]
  },
  {
   "cell_type": "code",
   "metadata": {
    "id": "OCrqqoy4xFkp",
    "colab": {
     "base_uri": "https://localhost:8080/",
     "height": 51
    },
    "outputId": "2416e74a-a97a-44cb-a73c-a7cb00fbb937",
    "ExecuteTime": {
     "end_time": "2023-06-23T09:34:04.526808Z",
     "start_time": "2023-06-23T09:34:04.480512Z"
    }
   },
   "source": [
    "text = 'I saw a masterpiece. I really liked this movie it was so fantastic'\n",
    "\n",
    "encoded = encode_review(text)\n",
    "prediction = model.predict(np.array(encoded)[None, :])[0, 0]\n",
    "\n",
    "print(prediction if prediction > 0.5 else 1 - prediction)\n",
    "print('Positive' if prediction > 0.5 else 'Negative')"
   ],
   "execution_count": 88,
   "outputs": [
    {
     "name": "stdout",
     "output_type": "stream",
     "text": [
      "1/1 [==============================] - 0s 19ms/step\n",
      "0.7660819\n",
      "Positive\n"
     ]
    }
   ]
  },
  {
   "cell_type": "code",
   "execution_count": 89,
   "outputs": [
    {
     "name": "stdout",
     "output_type": "stream",
     "text": [
      "1/1 [==============================] - 0s 21ms/step\n",
      "0.9013688191771507\n",
      "Negative\n"
     ]
    }
   ],
   "source": [
    "text = \"I've been waiting for it for so long. The acting leaves much to be desired. I thought the movie would be better\"\n",
    "\n",
    "encoded = encode_review(text)\n",
    "prediction = model.predict(np.array(encoded)[None, :])[0, 0]\n",
    "\n",
    "print(prediction if prediction > 0.5 else 1 - prediction)\n",
    "print('Positive' if prediction > 0.5 else 'Negative')"
   ],
   "metadata": {
    "collapsed": false,
    "ExecuteTime": {
     "end_time": "2023-06-23T09:34:05.588585Z",
     "start_time": "2023-06-23T09:34:05.532914Z"
    }
   }
  },
  {
   "cell_type": "markdown",
   "source": [
    "## Сохранение модели"
   ],
   "metadata": {
    "collapsed": false
   }
  },
  {
   "cell_type": "code",
   "execution_count": null,
   "outputs": [],
   "source": [
    "model.save('movie_review_classifier.h5')"
   ],
   "metadata": {
    "collapsed": false,
    "ExecuteTime": {
     "start_time": "2023-06-23T08:52:20.815029Z"
    }
   }
  }
 ]
}
